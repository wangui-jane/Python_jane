{
  "nbformat": 4,
  "nbformat_minor": 0,
  "metadata": {
    "colab": {
      "provenance": [],
      "authorship_tag": "ABX9TyNmZXA0EhUeFt/JmUsckU6y",
      "include_colab_link": true
    },
    "kernelspec": {
      "name": "python3",
      "display_name": "Python 3"
    },
    "language_info": {
      "name": "python"
    }
  },
  "cells": [
    {
      "cell_type": "markdown",
      "metadata": {
        "id": "view-in-github",
        "colab_type": "text"
      },
      "source": [
        "<a href=\"https://colab.research.google.com/github/wangui-jane/Python_jane/blob/main/Untitled2.ipynb\" target=\"_parent\"><img src=\"https://colab.research.google.com/assets/colab-badge.svg\" alt=\"Open In Colab\"/></a>"
      ]
    },
    {
      "cell_type": "code",
      "execution_count": null,
      "metadata": {
        "id": "q21Enx06GSVH"
      },
      "outputs": [],
      "source": [
        "COMPUTATIONAL METHODS"
      ]
    },
    {
      "cell_type": "markdown",
      "source": [
        "FEATURES THAT MAKE A PROBLEM SOLVABLE BY COMPUTATIONAL METHODS"
      ],
      "metadata": {
        "id": "Ip5fo_QfIcnh"
      }
    },
    {
      "cell_type": "markdown",
      "source": [
        "A problem is computable if it can be solved using an algorithm in a realistic and finite amount of time.\n",
        "\n",
        "Typical structure of a computable problem:\n",
        "\n",
        "Inputs\n",
        "\n",
        "Outputs\n",
        "\n",
        "Calculations\n",
        "\n",
        "Constraints:\n",
        "\n",
        "Limited processing power, speed, and memory\n",
        "\n",
        "Note: Some problems are theoretically solvable but not practical due to resource needs."
      ],
      "metadata": {
        "id": "iStgeFJMImzY"
      }
    },
    {
      "cell_type": "markdown",
      "source": [
        "PROBLEM RECOGNITION"
      ],
      "metadata": {
        "id": "ckWON5jCIrz-"
      }
    },
    {
      "cell_type": "markdown",
      "source": [
        "Involves understanding what the problem is and what stakeholders expect.\n",
        "\n",
        "Requirements gathering includes:\n",
        "\n",
        "Analysing current solutions (strengths/weaknesses)\n",
        "\n",
        "Identifying all forms of data: inputs, outputs, stored data, data size\n",
        "\n",
        "Leads to clearly defined system requirements"
      ],
      "metadata": {
        "id": "QBAsUS5RJfYT"
      }
    },
    {
      "cell_type": "markdown",
      "source": [
        "PROBLEM DECOMPOSITION"
      ],
      "metadata": {
        "id": "6HpAQtfuJkjC"
      }
    },
    {
      "cell_type": "markdown",
      "source": [
        "\n",
        "\n",
        "*   The problem is broken down into smaller, more manageable parts.\n",
        "*   Each subproblem can become a self-contained subroutine\n",
        "List item\n",
        "\n",
        "*  Benefits:\n",
        "     \n",
        "       Easier to manage and understand\n",
        "\n",
        "       Enables parallel development\n",
        "\n",
        "       Makes testing and debugging simpler\n",
        "\n",
        "       Allows reuse of existing modules and libraries\n",
        "\n",
        "\n",
        "\n",
        "\n",
        "\n"
      ],
      "metadata": {
        "id": "ZvItze1_JpOi"
      }
    },
    {
      "cell_type": "markdown",
      "source": [
        "DIVIDE AND CONQUER"
      ],
      "metadata": {
        "id": "ff8ub8apKVga"
      }
    },
    {
      "cell_type": "markdown",
      "source": [
        "A recursive approach to solving problems using 3 steps:\n",
        "\n",
        "Divide – split the problem into smaller subproblems (often in half)\n",
        "\n",
        "Conquer – solve each smaller problem recursively\n",
        "\n",
        "Merge – combine solutions to form the final answer\n",
        "\n",
        "Used in:\n",
        "\n",
        "Binary search\n",
        "\n",
        "Merge sort, Quick sort\n",
        "\n",
        "Time complexity: O(log n)\n",
        "\n",
        "Advantage: Efficiently simplifies large, complex problems\n",
        "\n",
        "Risk: Can lead to stack overflow due to recursion depth"
      ],
      "metadata": {
        "id": "mjygxNnbKdNw"
      }
    },
    {
      "cell_type": "markdown",
      "source": [
        "USE OF ABSTRACTION"
      ],
      "metadata": {
        "id": "JxdtOY1zKhFS"
      }
    },
    {
      "cell_type": "markdown",
      "source": [
        "Removes irrelevant details to focus on core functionality\n",
        "\n",
        "Types of abstraction:\n",
        "\n",
        "Representational abstraction – hide unnecessary detail\n",
        "\n",
        "Abstraction by generalisation – group similar components\n",
        "\n",
        "Advantages:\n",
        "\n",
        "Simplifies complex systems\n",
        "\n",
        "Allows for code reuse\n",
        "\n",
        "Encourages modular design and division of labor\n"
      ],
      "metadata": {
        "id": "gkBcsJ_7KmB6"
      }
    },
    {
      "cell_type": "markdown",
      "source": [
        "SOLVING PROBLEMS USING:"
      ],
      "metadata": {
        "id": "EQEUfQqiKwCA"
      }
    },
    {
      "cell_type": "markdown",
      "source": [
        "1. 🔄 Backtracking\n",
        "A recursive problem-solving method\n",
        "\n",
        "Explores possible solutions and backtracks if a path is invalid\n",
        "\n",
        "Example: maze solving, depth-first search (DFS)\n",
        "\n",
        "2. 📊 Data Mining\n",
        "Analyses large datasets (big data) to identify patterns or trends\n",
        "\n",
        "Used for:\n",
        "\n",
        "Business insights\n",
        "\n",
        "Prediction and decision-making\n",
        "\n",
        "Legal compliance is critical (e.g. GDPR for personal data)\n",
        "\n",
        "3. ⚡ Heuristics\n",
        "A rule-of-thumb or educated guess approach\n",
        "\n",
        "Provides a “good enough” solution quickly\n",
        "\n",
        "Commonly used in:\n",
        "\n",
        "AI and ML (e.g. A* algorithm)\n",
        "\n",
        "Problems where exact solutions are too expensive (e.g. Travelling Salesman)\n",
        "\n",
        "4. 📈 Performance Modelling\n",
        "Simulates system performance under different conditions\n",
        "\n",
        "Used to:\n",
        "\n",
        "Estimate capacity\n",
        "\n",
        "Detect potential failures early\n",
        "\n",
        "Test without real-world risks (e.g. flight software)\n",
        "\n",
        "Safer and more cost-effective than live testing\n",
        "\n",
        "5. 🔄 Pipelining\n",
        "Divides a task into multiple stages run in parallel\n",
        "\n",
        "Like a production line: output of one stage is input to the next\n",
        "\n",
        "Results in faster development and processing\n",
        "\n",
        "6. 🖼️ Visualisation\n",
        "Presents data in easily understood formats: graphs, charts, trees, tables\n",
        "\n",
        "Helps to:\n",
        "\n",
        "Detect hidden trends\n",
        "\n",
        "Communicate findings clearly\n",
        "\n",
        "Support business decision-making"
      ],
      "metadata": {
        "id": "ITmWj52SK05p"
      }
    }
  ]
}

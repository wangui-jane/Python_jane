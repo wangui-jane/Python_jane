{
  "nbformat": 4,
  "nbformat_minor": 0,
  "metadata": {
    "colab": {
      "provenance": [],
      "authorship_tag": "ABX9TyOrIWohyTCWu/itodN+2O3D",
      "include_colab_link": true
    },
    "kernelspec": {
      "name": "python3",
      "display_name": "Python 3"
    },
    "language_info": {
      "name": "python"
    }
  },
  "cells": [
    {
      "cell_type": "markdown",
      "metadata": {
        "id": "view-in-github",
        "colab_type": "text"
      },
      "source": [
        "<a href=\"https://colab.research.google.com/github/wangui-jane/Python_jane/blob/main/Untitled0.ipynb\" target=\"_parent\"><img src=\"https://colab.research.google.com/assets/colab-badge.svg\" alt=\"Open In Colab\"/></a>"
      ]
    },
    {
      "cell_type": "markdown",
      "source": [
        "INTRODUCION- BASICS OF DATA"
      ],
      "metadata": {
        "id": "Mwnn07Wq1vo6"
      }
    },
    {
      "cell_type": "code",
      "source": [
        "# === Arithmetic operations ===\n",
        "print(7 + 5)   # addition\n",
        "print(7 - 5)   # subtraction\n",
        "print(7 * 5)   # multiplication\n",
        "print(7 ** 5)  # exponentiation (7^5 in R)\n",
        "print(7 / 5)   # division\n",
        "print(7 % 5)   # modulo\n",
        "print(7 // 5)  # integer division\n",
        "\n",
        "\n"
      ],
      "metadata": {
        "colab": {
          "base_uri": "https://localhost:8080/"
        },
        "id": "hXweN8L0zfQy",
        "outputId": "d86babd0-9203-4b62-a24e-e0666abe33d9"
      },
      "execution_count": 18,
      "outputs": [
        {
          "output_type": "stream",
          "name": "stdout",
          "text": [
            "12\n",
            "2\n",
            "35\n",
            "16807\n",
            "1.4\n",
            "2\n",
            "1\n"
          ]
        }
      ]
    },
    {
      "cell_type": "code",
      "source": [
        "# === Boolean comparisons ===\n",
        "print(7 > 5)   # True\n",
        "print(7 < 5)   # False\n",
        "print(7 >= 7)  # True\n",
        "print(7 <= 5)  # False\n",
        "print(7 == 5)  # False\n",
        "print(7 != 5)  # True\n",
        "\n",
        "# Logical operators\n",
        "print((5 > 7) and (6 * 7 == 42))  # False\n",
        "print((5 > 7) or  (6 * 7 == 42))  # True\n",
        "\n"
      ],
      "metadata": {
        "colab": {
          "base_uri": "https://localhost:8080/"
        },
        "id": "BATFxoW5zigF",
        "outputId": "d9589ff4-4bfe-447b-985a-5bc119263410"
      },
      "execution_count": 19,
      "outputs": [
        {
          "output_type": "stream",
          "name": "stdout",
          "text": [
            "True\n",
            "False\n",
            "True\n",
            "False\n",
            "False\n",
            "True\n",
            "False\n",
            "True\n"
          ]
        }
      ]
    },
    {
      "cell_type": "code",
      "source": [
        "# === Type checking and conversion ===\n",
        "x = 7\n",
        "print(type(x))                       # <class 'int'>\n",
        "print(isinstance(x, (int, float)))   # True\n",
        "\n",
        "import math\n",
        "nan = float('nan')\n",
        "print(math.isnan(nan))               # True\n",
        "\n",
        "# Convert between types\n",
        "s = str(5/6)\n",
        "print(s)                             # '0.8333333333333334'\n",
        "f = float(s)\n",
        "print(f)                             # 0.8333333333333334\n",
        "\n"
      ],
      "metadata": {
        "colab": {
          "base_uri": "https://localhost:8080/"
        },
        "id": "szcl64dMzpcA",
        "outputId": "8cff6e77-73ee-40cc-e548-749bf86d65c7"
      },
      "execution_count": 20,
      "outputs": [
        {
          "output_type": "stream",
          "name": "stdout",
          "text": [
            "<class 'int'>\n",
            "True\n",
            "True\n",
            "0.8333333333333334\n",
            "0.8333333333333334\n"
          ]
        }
      ]
    },
    {
      "cell_type": "code",
      "source": [
        "# === Lists and vectorized operations (NumPy) ===\n",
        "import numpy as np\n",
        "\n",
        "x = [7, 8, 10, 45]\n",
        "print(x)\n",
        "print(x[0])     # 7 (R x[1])\n",
        "print(x[-1])    # 45 (R x[4])\n",
        "\n",
        "# Exclude 4th element (similar to R x[-4])\n",
        "x_without_4 = x[:3]\n",
        "print(x_without_4)\n",
        "\n",
        "# Arithmetic with numpy arrays\n",
        "x_arr = np.array(x)\n",
        "y_arr = np.array([-7, -8, -10, -45])\n",
        "print(x_arr + y_arr)\n",
        "print(x_arr * y_arr)\n",
        "print(2 * x_arr)\n",
        "print(x_arr ** np.array([1, 0, -1, 0.5]))\n"
      ],
      "metadata": {
        "colab": {
          "base_uri": "https://localhost:8080/"
        },
        "id": "p0K53ESxzr7C",
        "outputId": "3223472b-7c4e-4d84-98a8-8946c5afdeb1"
      },
      "execution_count": 21,
      "outputs": [
        {
          "output_type": "stream",
          "name": "stdout",
          "text": [
            "[7, 8, 10, 45]\n",
            "7\n",
            "45\n",
            "[7, 8, 10]\n",
            "[0 0 0 0]\n",
            "[  -49   -64  -100 -2025]\n",
            "[14 16 20 90]\n",
            "[7.         1.         0.1        6.70820393]\n"
          ]
        }
      ]
    },
    {
      "cell_type": "code",
      "source": [
        "# === Common functions with NumPy, pandas, and matplotlib ===\n",
        "import numpy as np\n",
        "import pandas as pd\n",
        "import matplotlib.pyplot as plt\n",
        "\n",
        "x_arr = np.array([7, 8, 10, 45])\n",
        "print('Mean:',      np.mean(x_arr))\n",
        "print('Median:',    np.median(x_arr))\n",
        "print('Std Dev:',   np.std(x_arr))\n",
        "print('Variance:',  np.var(x_arr))\n",
        "print('Max:',       np.max(x_arr))\n",
        "print('Min:',       np.min(x_arr))\n",
        "print('Length:',    len(x_arr))\n",
        "print('Sum:',       np.sum(x_arr))\n",
        "\n",
        "# Sorting\n",
        "print('Sorted:', np.sort(x_arr))\n",
        "\n",
        "# Histogram\n",
        "plt.hist(x_arr)\n",
        "plt.title('Histogram of x')\n",
        "plt.show()\n",
        "\n",
        "# Empirical CDF\n",
        "ecdf_vals = np.arange(1, len(x_arr) + 1) / len(x_arr)\n",
        "ecdf_x    = np.sort(x_arr)\n",
        "plt.step(ecdf_x, ecdf_vals)\n",
        "plt.title('ECDF of x')\n",
        "plt.show()\n",
        "\n",
        "# Summary with pandas\n",
        "print(pd.Series(x_arr).describe())\n",
        "\n",
        "# any() and all()\n",
        "print('Any >9:', any(x_arr > 9))\n",
        "print('All >9:', all(x_arr > 9))\n"
      ],
      "metadata": {
        "colab": {
          "base_uri": "https://localhost:8080/",
          "height": 1000
        },
        "id": "4E8mLe5Uzzi5",
        "outputId": "1a12e6b8-7b44-47e8-b302-f6a52cf1ddf6"
      },
      "execution_count": 22,
      "outputs": [
        {
          "output_type": "stream",
          "name": "stdout",
          "text": [
            "Mean: 17.5\n",
            "Median: 9.0\n",
            "Std Dev: 15.913830462839549\n",
            "Variance: 253.25\n",
            "Max: 45\n",
            "Min: 7\n",
            "Length: 4\n",
            "Sum: 70\n",
            "Sorted: [ 7  8 10 45]\n"
          ]
        },
        {
          "output_type": "display_data",
          "data": {
            "text/plain": [
              "<Figure size 640x480 with 1 Axes>"
            ],
            "image/png": "[encoded data removed]"
          },
          "metadata": {}
        },
        {
          "output_type": "display_data",
          "data": {
            "text/plain": [
              "<Figure size 640x480 with 1 Axes>"
            ],
            "image/png": "[encoded data removed]"
          },
          "metadata": {}
        },
        {
          "output_type": "stream",
          "name": "stdout",
          "text": [
            "count     4.000000\n",
            "mean     17.500000\n",
            "std      18.375709\n",
            "min       7.000000\n",
            "25%       7.750000\n",
            "50%       9.000000\n",
            "75%      18.750000\n",
            "max      45.000000\n",
            "dtype: float64\n",
            "Any >9: True\n",
            "All >9: False\n"
          ]
        }
      ]
    },
    {
      "cell_type": "code",
      "source": [
        "import numpy as np\n",
        "\n",
        "# === Naming elements with pandas Series ===\n",
        "import numpy as np\n",
        "import pandas as pd\n",
        "\n",
        "x_arr  = np.array([7, 8, 10, 45])\n",
        "labels = ['v1', 'v2', 'v3', 'fred']\n",
        "x_series = pd.Series(x_arr, index=labels)\n",
        "print(x_series)\n",
        "\n",
        "# Select by label\n",
        "print('fred:', x_series['fred'])\n",
        "print('v1:',   x_series['v1'])\n",
        "\n",
        "# Sort by index\n",
        "print('Sorted index:', x_series.sort_index())\n",
        "\n",
        "# Find position of 'fred'\n",
        "print('Index of fred:', list(x_series.index).index('fred'))\n",
        "\n"
      ],
      "metadata": {
        "colab": {
          "base_uri": "https://localhost:8080/"
        },
        "id": "mRzddIT70CrD",
        "outputId": "4bd7e2b1-7c88-44bc-8f9a-a61c410a0671"
      },
      "execution_count": 23,
      "outputs": [
        {
          "output_type": "stream",
          "name": "stdout",
          "text": [
            "v1       7\n",
            "v2       8\n",
            "v3      10\n",
            "fred    45\n",
            "dtype: int64\n",
            "fred: 45\n",
            "v1: 7\n",
            "Sorted index: fred    45\n",
            "v1       7\n",
            "v2       8\n",
            "v3      10\n",
            "dtype: int64\n",
            "Index of fred: 3\n"
          ]
        }
      ]
    },
    {
      "cell_type": "code",
      "source": [
        "# === Listing and removing variables ===\n",
        "print('Current variables:', list(vars().keys()))\n",
        "\n",
        "# To remove a variable, for example `circumference_in_cubits`:\n",
        "# del circumference_in_cubits\n"
      ],
      "metadata": {
        "colab": {
          "base_uri": "https://localhost:8080/"
        },
        "id": "nG0jiL1N--OP",
        "outputId": "2855e4d3-e67f-440d-8efb-a2bf34788be0"
      },
      "execution_count": 24,
      "outputs": [
        {
          "output_type": "stream",
          "name": "stdout",
          "text": [
            "Current variables: ['__name__', '__doc__', '__package__', '__loader__', '__spec__', '__builtin__', '__builtins__', '_ih', '_oh', '_dh', 'In', 'Out', 'get_ipython', 'exit', 'quit', '_', '__', '___', '_i', '_ii', '_iii', '_i1', 'files', 'uploaded', '_i2', 'np', 'x', '_i3', '_i4', '_i5', '_5', '_i6', '_6', '_i7', '_i8', '_i9', '_i10', '_10', '_i11', '_11', '_i12', '_12', '_i13', '_13', '_i14', 'y', 'z', '_i15', '_i16', '_i17', '_i18', '_i19', '_i20', 'math', 'nan', 's', 'f', '_i21', 'x_without_4', 'x_arr', 'y_arr', '_i22', 'pd', 'plt', 'ecdf_vals', 'ecdf_x', '_i23', 'labels', 'x_series', '_i24']\n"
          ]
        }
      ]
    }
  ]
}
